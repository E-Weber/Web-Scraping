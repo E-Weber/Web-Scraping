{
 "cells": [
  {
   "cell_type": "code",
   "execution_count": 1,
   "id": "relative-trouble",
   "metadata": {},
   "outputs": [],
   "source": [
    "import pandas as pd\n",
    "from bs4 import BeautifulSoup as bs\n",
    "import os\n",
    "import requests\n",
    "from splinter import Browser\n",
    "from webdriver_manager.chrome import ChromeDriverManager\n",
    "import pymongo"
   ]
  },
  {
   "cell_type": "code",
   "execution_count": 2,
   "id": "theoretical-medication",
   "metadata": {
    "scrolled": true
   },
   "outputs": [
    {
     "name": "stderr",
     "output_type": "stream",
     "text": [
      "[WDM] - ====== WebDriver manager ======\n",
      "[WDM] - Current google-chrome version is 89.0.4389\n",
      "[WDM] - Get LATEST driver version for 89.0.4389\n"
     ]
    },
    {
     "name": "stdout",
     "output_type": "stream",
     "text": [
      "\n",
      "\n"
     ]
    },
    {
     "name": "stderr",
     "output_type": "stream",
     "text": [
      "[WDM] - Driver [C:\\Users\\eweber\\.wdm\\drivers\\chromedriver\\win32\\89.0.4389.23\\chromedriver.exe] found in cache\n"
     ]
    }
   ],
   "source": [
    "executable_path = {'executable_path': ChromeDriverManager().install()}\n",
    "browser = Browser('chrome', **executable_path, headless=False)"
   ]
  },
  {
   "cell_type": "code",
   "execution_count": 3,
   "id": "reverse-tolerance",
   "metadata": {},
   "outputs": [],
   "source": [
    "news_url = 'https://redplanetscience.com/'\n",
    "browser.visit(news_url)"
   ]
  },
  {
   "cell_type": "code",
   "execution_count": 8,
   "id": "first-manual",
   "metadata": {},
   "outputs": [],
   "source": [
    "news_html = browser.html\n",
    "soup = bs(news_html, 'html.parser')"
   ]
  },
  {
   "cell_type": "code",
   "execution_count": 9,
   "id": "organized-resort",
   "metadata": {},
   "outputs": [
    {
     "name": "stdout",
     "output_type": "stream",
     "text": [
      "Virginia Middle School Student Earns Honor of Naming NASA's Next Mars Rover\n"
     ]
    }
   ],
   "source": [
    "#News Title\n",
    "news_title = soup.find('div', class_='content_title').text\n",
    "print(news_title)"
   ]
  },
  {
   "cell_type": "code",
   "execution_count": 10,
   "id": "greater-document",
   "metadata": {},
   "outputs": [
    {
     "name": "stdout",
     "output_type": "stream",
     "text": [
      "NASA chose a seventh-grader from Virginia as winner of the agency's \"Name the Rover\" essay contest. Alexander Mather's entry for \"Perseverance\" was voted tops among 28,000 entries. \n"
     ]
    }
   ],
   "source": [
    "#News Paragraph\n",
    "news_p = soup.find('div', class_='article_teaser_body').text\n",
    "print(news_p)"
   ]
  },
  {
   "cell_type": "code",
   "execution_count": 11,
   "id": "working-casino",
   "metadata": {},
   "outputs": [],
   "source": [
    "#Photo\n",
    "pic_url='https://spaceimages-mars.com'\n",
    "browser.visit(pic_url)"
   ]
  },
  {
   "cell_type": "code",
   "execution_count": 12,
   "id": "broad-juvenile",
   "metadata": {},
   "outputs": [],
   "source": [
    "browser.links.find_by_partial_text(\"FULL IMAGE\").click()"
   ]
  },
  {
   "cell_type": "code",
   "execution_count": 13,
   "id": "emerging-steering",
   "metadata": {},
   "outputs": [],
   "source": [
    "pic_html = browser.html\n",
    "soup = bs(pic_html, 'html.parser')\n",
    "pic_url = soup.find('img', class_ = 'fancybox-image')['src']"
   ]
  },
  {
   "cell_type": "code",
   "execution_count": 253,
   "id": "great-asthma",
   "metadata": {},
   "outputs": [
    {
     "data": {
      "text/plain": [
       "'<html class=\"fancybox-margin fancybox-lock\"><head>\\n      <meta charset=\"utf-8\">\\n      <meta name=\"viewport\" content=\"width=device-width, initial-scale=1\">\\n      <link rel=\"stylesheet\" href=\"https://maxcdn.bootstrapcdn.com/bootstrap/4.0.0/css/bootstrap.min.css\">\\n      <!-- <link rel=\"stylesheet\" type=\"text/css\" href=\"css/font.css\"> -->\\n      <link rel=\"stylesheet\" type=\"text/css\" href=\"css/app.css\">\\n      <link rel=\"stylesheet\" type=\"text/css\" href=\"https://stackpath.bootstrapcdn.com/font-awesome/4.7.0/css/font-awesome.min.css\">\\n      <title>Space Image</title>\\n   <style type=\"text/css\">.fancybox-margin{margin-right:17px;}</style></head>\\n   <body>\\n      <div class=\"header\">\\n         <nav class=\"navbar navbar-expand-lg \">\\n            <a class=\"navbar-brand\" href=\"#\"><img id=\"logo\" src=\"image/nasa.png\"><span class=\"logo\">Jet Propulsion Laboratory</span>\\n            <span class=\"logo1\">California Institute of Technology</span></a>\\n            <button class=\"navbar-toggler\" type=\"button\" data-toggle=\"collapse\" data-target=\"#navbarNav\" aria-controls=\"navbarNav\" aria-expanded=\"false\" aria-label=\"Toggle navigation\">\\n            <span class=\"navbar-toggler-icon\"></span>\\n            </button>\\n            <div class=\"collapse navbar-collapse justify-content-end\" id=\"navbarNav\">\\n               <ul class=\"navbar-nav\">\\n                  <li class=\"nav-item active\">\\n                     <a class=\"nav-link\" href=\"#\"><i class=\"fa fa-bars\" aria-hidden=\"true\"></i> &nbsp;&nbsp;MENU &nbsp;&nbsp;<i class=\"fa fa-search\" aria-hidden=\"true\"></i></a>\\n                  </li>\\n               </ul>\\n            </div>\\n         </nav>\\n         <div class=\"floating_text_area\">\\n            <h2 class=\"brand_title\">FEATURED IMAGE</h2>\\n            <h1 class=\"media_feature_title\">Dusty Space Cloud</h1>\\n            <br>\\n           <a target=\"_blank\" class=\"showimg fancybox-thumbs\" href=\"image/featured/mars3.jpg\"> <button class=\"btn btn-outline-light\"> FULL IMAGE</button></a>\\n         </div>\\n      <img class=\"headerimage fade-in\" src=\"image/featured/mars3.jpg\"></div>\\n      <div class=\"search sticky\">\\n         <div class=\"col-md-12\">\\n            <div class=\"row\">\\n               <div class=\"col-md-6\">\\n                  <input type=\"text\" name=\"Search\" placeholder=\"Search\">\\n               </div>\\n               <div class=\"col-md-6\">\\n                  <select class=\"form-select\" id=\"options\" aria-label=\"Default select example\">\\n                     <option selected=\"\" onchange=\"0\">Mars</option>\\n                     <!-- <option data-filter=\"sun\" class=\"button\">Mars</option> -->\\n                     <option data-filter=\"Sun\" class=\"button\">Sun</option>\\n                     <option data-filter=\"earth\" class=\"button\">Earth</option>\\n                     <option data-filter=\"ida\" class=\"button\">Ida</option>\\n                     <option data-filter=\"jupiter\" class=\"button\">Jupiter</option>\\n                     <option data-filter=\"venus\" class=\"button\">Venus</option>\\n                  </select>\\n               </div>\\n            </div>\\n         </div>\\n      </div>\\n      <div class=\"container mt-5\">\\n         <div class=\"col-md-12\">\\n            <div class=\"row\">\\n               <div class=\"col-md-6\">\\n                  <h1>Images</h1>\\n               </div>\\n               <div class=\"col-md-6\" id=\"icon\">\\n                  <div class=\"icon2\"></div>\\n                  <div class=\"icon1\"></div>\\n               </div>\\n            </div>\\n         </div>\\n         <!-- first div -->\\n         <div id=\"filter\" class=\"div1\">\\n            <div class=\"thmbgroup\"><a class=\"fancybox-thumbs\" data-fancybox-group=\"thumb\" href=\"image/mars/Icaria Fossae7.jpg\"><div class=\"thmb\"><img class=\"thumbimg\" src=\"image/mars/Icaria Fossae7.jpg\" alt=\"\"><p class=\"thumbcontent\">January 1, 2020<br>Icaria Fossae7</p></div></a><a class=\"fancybox-thumbs\" data-fancybox-group=\"thumb\" href=\"image/mars/Proctor Crater Dunes 7.jpg\"><div class=\"thmb\"><img class=\"thumbimg\" src=\"image/mars/Proctor Crater Dunes 7.jpg\" alt=\"\"><p class=\"thumbcontent\">December 31, 2020<br>Proctor Crater Dunes</p></div></a><a class=\"fancybox-thumbs\" data-fancybox-group=\"thumb\" href=\"image/mars/Icaria Fossae7.jpg\"><div class=\"thmb\"><img class=\"thumbimg\" src=\"image/mars/Icaria Fossae7.jpg\" alt=\"\"><p class=\"thumbcontent\">December 31, 2020<br>Icaria Fossae</p></div></a><a class=\"fancybox-thumbs\" data-fancybox-group=\"thumb\" href=\"image/mars/Proctor Crater Dunes 7.jpg\"><div class=\"thmb\"><img class=\"thumbimg\" src=\"image/mars/Proctor Crater Dunes 7.jpg\" alt=\"\"><p class=\"thumbcontent\">December 29, 2020<br>Proctor Crater Dunes</p></div></a><a class=\"fancybox-thumbs\" data-fancybox-group=\"thumb\" href=\"image/mars/Proctor Crater Dunes 7.jpg\"><div class=\"thmb\"><img class=\"thumbimg\" src=\"image/mars/Proctor Crater Dunes 7.jpg\" alt=\"\"><p class=\"thumbcontent\">December 28, 2020<br>roctor Crater Dunes</p></div></a><a class=\"fancybox-thumbs\" data-fancybox-group=\"thumb\" href=\"image/mars/Icaria Fossae7.jpg\"><div class=\"thmb\"><img class=\"thumbimg\" src=\"image/mars/Icaria Fossae7.jpg\" alt=\"\"><p class=\"thumbcontent\">December 22, 2020<br>Icaria Fossae</p></div></a><a class=\"fancybox-thumbs\" data-fancybox-group=\"thumb\" href=\"image/mars/Icaria Fossae.jpg\"><div class=\"thmb\"><img class=\"thumbimg\" src=\"image/mars/Icaria Fossae.jpg\" alt=\"\"><p class=\"thumbcontent\">December 21, 2020<br>Icaria Fossae</p></div></a><a class=\"fancybox-thumbs\" data-fancybox-group=\"thumb\" href=\"image/mars/Ariadnes Colles4.jpg\"><div class=\"thmb\"><img class=\"thumbimg\" src=\"image/mars/Ariadnes Colles4.jpg\" alt=\"\"><p class=\"thumbcontent\">December 18, 2020<br>Ariadnes Colles</p></div></a><a class=\"fancybox-thumbs\" data-fancybox-group=\"thumb\" href=\"image/mars/Niger Vallis.jpg\"><div class=\"thmb\"><img class=\"thumbimg\" src=\"image/mars/Niger Vallis.jpg\" alt=\"\"><p class=\"thumbcontent\">December 17, 2020<br>Niger Vallis</p></div></a><a class=\"fancybox-thumbs\" data-fancybox-group=\"thumb\" href=\"image/mars/Proctor Crater Dunes.jpg\"><div class=\"thmb\"><img class=\"thumbimg\" src=\"image/mars/Proctor Crater Dunes.jpg\" alt=\"\"><p class=\"thumbcontent\">December 16, 2020<br>Proctor Crater Dunes</p></div></a><a class=\"fancybox-thumbs\" data-fancybox-group=\"thumb\" href=\"image/mars/Niger Vallis.jpg\"><div class=\"thmb\"><img class=\"thumbimg\" src=\"image/mars/Niger Vallis.jpg\" alt=\"\"><p class=\"thumbcontent\">December 15, 2020<br>Niger Vallis</p></div></a><a class=\"fancybox-thumbs\" data-fancybox-group=\"thumb\" href=\"image/mars/Daedalia Planum.jpg\"><div class=\"thmb\"><img class=\"thumbimg\" src=\"image/mars/Daedalia Planum.jpg\" alt=\"\"><p class=\"thumbcontent\">December 11, 2020<br>Daedalia Planum</p></div></a><a class=\"fancybox-thumbs\" data-fancybox-group=\"thumb\" href=\"image/mars/Sirenum Fossae.jpg\"><div class=\"thmb\"><img class=\"thumbimg\" src=\"image/mars/Sirenum Fossae.jpg\" alt=\"\"><p class=\"thumbcontent\">November,11, 2020<br>Sirenum Fossae</p></div></a><a class=\"fancybox-thumbs\" data-fancybox-group=\"thumb\" href=\"image/mars/Ariadnes Colles4.jpg\"><div class=\"thmb\"><img class=\"thumbimg\" src=\"image/mars/Ariadnes Colles4.jpg\" alt=\"\"><p class=\"thumbcontent\">November,13, 2020<br>Ariadnes Colles</p></div></a><a class=\"fancybox-thumbs\" data-fancybox-group=\"thumb\" href=\"image/mars/South Polar Cap.jpg\"><div class=\"thmb\"><img class=\"thumbimg\" src=\"image/mars/South Polar Cap.jpg\" alt=\"\"><p class=\"thumbcontent\">November,14, 2020<br>South Polar Cap</p></div></a><a class=\"fancybox-thumbs\" data-fancybox-group=\"thumb\" href=\"image/mars/Daedalia Planum.jpg\"><div class=\"thmb\"><img class=\"thumbimg\" src=\"image/mars/Daedalia Planum.jpg\" alt=\"\"><p class=\"thumbcontent\">November,17, 2020<br>Daedalia Planum</p></div></a><a class=\"fancybox-thumbs\" data-fancybox-group=\"thumb\" href=\"image/mars/Ariadnes Colles3.jpg\"><div class=\"thmb\"><img class=\"thumbimg\" src=\"image/mars/Ariadnes Colles3.jpg\" alt=\"\"><p class=\"thumbcontent\">November,11, 2020<br>Ariadnes Colles</p></div></a><a class=\"fancybox-thumbs\" data-fancybox-group=\"thumb\" href=\"image/mars/Atlantis Chaos.jpg\"><div class=\"thmb\"><img class=\"thumbimg\" src=\"image/mars/Atlantis Chaos.jpg\" alt=\"\"><p class=\"thumbcontent\">November,09, 2020<br>Atlantis Chaos</p></div></a><a class=\"fancybox-thumbs\" data-fancybox-group=\"thumb\" href=\"image/mars/Daedalia Planum.jpg\"><div class=\"thmb\"><img class=\"thumbimg\" src=\"image/mars/Daedalia Planum.jpg\" alt=\"\"><p class=\"thumbcontent\">January 1, 2020<br>Daedalia Planum</p></div></a><a class=\"fancybox-thumbs\" data-fancybox-group=\"thumb\" href=\"image/mars/Icaria Fossae.jpg\"><div class=\"thmb\"><img class=\"thumbimg\" src=\"image/mars/Icaria Fossae.jpg\" alt=\"\"><p class=\"thumbcontent\">January 1, 2020<br>Icaria Fossae</p></div></a><a class=\"fancybox-thumbs\" data-fancybox-group=\"thumb\" href=\"image/mars/Niger Vallis.jpg\"><div class=\"thmb\"><img class=\"thumbimg\" src=\"image/mars/Niger Vallis.jpg\" alt=\"\"><p class=\"thumbcontent\">January 1, 2020<br>Niger Vallis</p></div></a><a class=\"fancybox-thumbs\" data-fancybox-group=\"thumb\" href=\"image/mars/Proctor Crater Dunes.jpg\"><div class=\"thmb\"><img class=\"thumbimg\" src=\"image/mars/Proctor Crater Dunes.jpg\" alt=\"\"><p class=\"thumbcontent\">January 1, 2020<br>Proctor Crater Dunes</p></div></a><a class=\"fancybox-thumbs\" data-fancybox-group=\"thumb\" href=\"image/mars/Reull Vallis.jpg\"><div class=\"thmb\"><img class=\"thumbimg\" src=\"image/mars/Reull Vallis.jpg\" alt=\"\"><p class=\"thumbcontent\">January 1, 2020<br>Reull Vallis</p></div></a><a class=\"fancybox-thumbs\" data-fancybox-group=\"thumb\" href=\"image/mars/Ariadnes Colles3.jpg\"><div class=\"thmb\"><img class=\"thumbimg\" src=\"image/mars/Ariadnes Colles3.jpg\" alt=\"\"><p class=\"thumbcontent\">January 1, 2020<br>Ariadnes Colles</p></div></a><a class=\"fancybox-thumbs\" data-fancybox-group=\"thumb\" href=\"image/mars/Sirenum Fossae.jpg\"><div class=\"thmb\"><img class=\"thumbimg\" src=\"image/mars/Sirenum Fossae.jpg\" alt=\"\"><p class=\"thumbcontent\">January 1, 2020<br>Sirenum Fossae</p></div></a><a class=\"fancybox-thumbs\" data-fancybox-group=\"thumb\" href=\"image/mars/South Polar Cap.jpg\"><div class=\"thmb\"><img class=\"thumbimg\" src=\"image/mars/South Polar Cap.jpg\" alt=\"\"><p class=\"thumbcontent\">January 1, 2020<br>South Polar Cap</p></div></a><a class=\"fancybox-thumbs\" data-fancybox-group=\"thumb\" href=\"image/mars/Niger Vallis.jpg\"><div class=\"thmb\"><img class=\"thumbimg\" src=\"image/mars/Niger Vallis.jpg\" alt=\"\"><p class=\"thumbcontent\">January 1, 2020<br>Niger Vallis</p></div></a><a class=\"fancybox-thumbs\" data-fancybox-group=\"thumb\" href=\"image/mars/Daedalia Planum.jpg\"><div class=\"thmb\"><img class=\"thumbimg\" src=\"image/mars/Daedalia Planum.jpg\" alt=\"\"><p class=\"thumbcontent\">January 1, 2020<br>Daedalia Planum</p></div></a><a class=\"fancybox-thumbs\" data-fancybox-group=\"thumb\" href=\"image/mars/Icaria Fossae.jpg\"><div class=\"thmb\"><img class=\"thumbimg\" src=\"image/mars/Icaria Fossae.jpg\" alt=\"\"><p class=\"thumbcontent\">January 1, 2020<br>Icaria Fossae</p></div></a><a class=\"fancybox-thumbs\" data-fancybox-group=\"thumb\" href=\"image/mars/Ariadnes Colles4.jpg\"><div class=\"thmb\"><img class=\"thumbimg\" src=\"image/mars/Ariadnes Colles4.jpg\" alt=\"\"><p class=\"thumbcontent\">January 1, 2020<br>Ariadnes Colles</p></div></a><a class=\"fancybox-thumbs\" data-fancybox-group=\"thumb\" href=\"image/mars/South Polar Cap.jpg\"><div class=\"thmb\"><img class=\"thumbimg\" src=\"image/mars/South Polar Cap.jpg\" alt=\"\"><p class=\"thumbcontent\">January 1, 2020<br>South Polar Cap</p></div></a><a class=\"fancybox-thumbs\" data-fancybox-group=\"thumb\" href=\"image/mars/Daedalia Planum.jpg\"><div class=\"thmb\"><img class=\"thumbimg\" src=\"image/mars/Daedalia Planum.jpg\" alt=\"\"><p class=\"thumbcontent\">January 1, 2020<br>Daedalia Planum</p></div></a></div>\\n         </div>\\n         <!-- first div ends -->\\n         <!-- second div starts -->\\n         <div id=\"column\" class=\"col-md-12  grid-margin\">\\n            <ul class=\"post-list\">\\n               <li class=\"post-heading\"></li>\\n            </ul>\\n         </div>\\n         <!-- second div starts -->\\n      </div>\\n      <div class=\"first imgcontainer mt-3\">\\n         <div class=\"col-md-12\">\\n            <div class=\"row\">\\n               <div class=\"col-md-3\">\\n                  <img id=\"pic\" src=\"\">\\n               </div>\\n            </div>\\n         </div>\\n      </div>\\n      <!-- end -->\\n      <div class=\"module_gallery container\">\\n         <div class=\"col-md-12\">\\n            <div class=\"row\">\\n               <div class=\"col-md-6\">\\n                  <div class=\"card\">\\n                     <img class=\"card-img-top\" src=\"https://www.jpl.nasa.gov/assets/images/content/tmp/images/jpl_photojournal(3x1).jpg\" alt=\"Card image cap\">\\n                     <div class=\"card-body\">\\n                        <h5 class=\"card-title\">JPL Photojournal</h5>\\n                        <p class=\"card-text\">Access to the full library of publicly released images from various Solar System exploration programs</p>\\n                     </div>\\n                  </div>\\n               </div>\\n               <div class=\"col-md-6\">\\n                  <div class=\"card\">\\n                     <img class=\"card-img-top\" src=\"https://www.jpl.nasa.gov/assets/images/content/tmp/images/nasa_images(3x1).jpg\" alt=\"Card image cap\">\\n                     <div class=\"card-body\">\\n                        <h5 class=\"card-title\">Great images in NASA</h5>\\n                        <p class=\"card-text\">A selection of the best-known images from a half-century of exploration and discovery</p>\\n                     </div>\\n                  </div>\\n               </div>\\n            </div>\\n         </div>\\n      </div>\\n      <div class=\"multi_teaser\">\\n         <div class=\"container\">\\n            <h1>You Might Also Like</h1>\\n            <div class=\"col-md-12 mt-5\">\\n               <div class=\"row\">\\n                  <div class=\"col-md-4\">\\n                     <div class=\"card\">\\n                        <img class=\"card-img-top\" src=\"https://imagecache.jpl.nasa.gov/images/640x350/C1-PIA24304---CatScanMars-16-640x350.gif\" alt=\"Card image cap\">\\n                        <div class=\"card-body\">\\n                           <p class=\"card-text\">Access to the full library of publicly released images from various Solar System exploration programs</p>\\n                        </div>\\n                     </div>\\n                  </div>\\n                  <div class=\"col-md-4\">\\n                     <div class=\"card\">\\n                        <img class=\"card-img-top\" src=\"https://imagecache.jpl.nasa.gov/images/640x350/PIA23491-16-640x350.jpg\" alt=\"Card image cap\">\\n                        <div class=\"card-body\">\\n                           <p class=\"card-text\">Access to the full library of publicly released images from various Solar System exploration programs</p>\\n                        </div>\\n                     </div>\\n                  </div>\\n                  <div class=\"col-md-4\">\\n                     <div class=\"card\">\\n                        <img class=\"card-img-top\" src=\"https://imagecache.jpl.nasa.gov/images/640x350/C1-PIA23180-16-640x350.gif\" alt=\"Card image cap\">\\n                        <div class=\"card-body\">\\n                           <p class=\"card-text\">Access to the full library of publicly released images from various Solar System exploration programs</p>\\n                        </div>\\n                     </div>\\n                  </div>\\n               </div>\\n            </div>\\n         </div>\\n      </div>\\n      <div class=\"footer \">\\n         <div class=\"container\">\\n            <div class=\"col-md-12\">\\n               <div class=\"row\">\\n                  <div class=\"col-md-3\">\\n                     <h4>About JPL</h4>\\n                     <ul>\\n                        <li>About JPL</li>\\n                        <li>JPL Vision</li>\\n                        <li>Executive Council</li>\\n                        <li>History</li>\\n                     </ul>\\n                  </div>\\n                  <div class=\"col-md-3\">\\n                     <h4>Education</h4>\\n                     <ul>\\n                        <li>Intern</li>\\n                        <li>Learn</li>\\n                        <li>Teach</li>\\n                        <li>News</li>\\n                     </ul>\\n                  </div>\\n                  <div class=\"col-md-3\">\\n                     <h4>Our Sites</h4>\\n                     <ul>\\n                        <li>Asteroid Watch</li>\\n                        <li>Basics of Spaceflight</li>\\n                        <li>Cassini - Mission to Saturn</li>\\n                        <li>Climate Kids</li>\\n                     </ul>\\n                  </div>\\n                  <div class=\"col-md-3\">\\n                     <h4>Galleries</h4>\\n                     <ul>\\n                        <li>JPL Space Images</li>\\n                        <li>Videos</li>\\n                        <li>Infographics</li>\\n                        <li>Photojournal</li>\\n                     </ul>\\n                  </div>\\n               </div>\\n            </div>\\n         </div>\\n      </div>\\n<!--<div class=\"showFullimage\">\\n\\t<button class=\"btn btn-outline-light hideimage\" onclick=hideimage()> Close</button>\\n\\t<img class=\"fullimage fade-in\" src=\"\">\\n</div>-->\\n      <!-- <script src=\"js/jquery.easeScroll.js\"></script>  -->\\n      <script src=\"js/jquery-3.5.1.min.js\"></script>\\n      <!-- <script src=\"js/jquery-3.2.1.slim.min.js\"></script> -->\\n      <script src=\"js/demo.js\"></script>\\n      <!-- <script src=\"js/app.js\"></script> -->\\n      <script src=\"https://cdnjs.cloudflare.com/ajax/libs/popper.js/1.12.9/umd/popper.min.js\"></script>\\n      <script src=\"https://maxcdn.bootstrapcdn.com/bootstrap/4.0.0/js/bootstrap.min.js\"></script>\\n      <script type=\"text/javascript\" src=\"js/fancyBox/jquery.fancybox.pack.js?v=2.1.5\"></script>\\n      <link rel=\"stylesheet\" type=\"text/css\" href=\"js/fancyBox/jquery.fancybox.css?v=2.1.5\" media=\"screen\">\\n      <link rel=\"stylesheet\" type=\"text/css\" href=\"js/fancyBox/helpers/jquery.fancybox-thumbs.css?v=1.0.7\">\\n      <script type=\"text/javascript\" src=\"js/fancyBox/helpers/jquery.fancybox-thumbs.js?v=1.0.7\"></script>\\n   \\n<div class=\"fancybox-overlay fancybox-overlay-fixed\" style=\"width: auto; height: auto; display: block;\"><div class=\"fancybox-wrap fancybox-desktop fancybox-type-image fancybox-opened\" tabindex=\"-1\" style=\"width: 670px; height: auto; position: absolute; top: 254px; left: 281px; opacity: 1; overflow: visible;\"><div class=\"fancybox-skin\" style=\"padding: 15px; width: auto; height: auto;\"><div class=\"fancybox-outer\"><div class=\"fancybox-inner\" style=\"overflow: visible; width: 640px; height: 350px;\"><img class=\"fancybox-image\" src=\"image/featured/mars3.jpg\" alt=\"\"></div></div><a title=\"Close\" class=\"fancybox-item fancybox-close\" href=\"javascript:;\"></a></div></div></div></body></html>image/featured/mars3.jpg'"
      ]
     },
     "execution_count": 253,
     "metadata": {},
     "output_type": "execute_result"
    }
   ],
   "source": [
    "featured_image_url = pic_html + pic_url\n",
    "featured_image_url"
   ]
  },
  {
   "cell_type": "code",
   "execution_count": 254,
   "id": "athletic-weapon",
   "metadata": {},
   "outputs": [],
   "source": [
    "#Facts\n",
    "facts_url = 'https://galaxyfacts-mars.com'\n",
    "browser.visit(facts_url)"
   ]
  },
  {
   "cell_type": "code",
   "execution_count": 255,
   "id": "vocational-scheme",
   "metadata": {},
   "outputs": [],
   "source": [
    "facts_html = browser.html\n",
    "soup = bs(facts_html, 'html.parser')\n",
    "#mars_facts = soup.find('table', class_ = 'tbody')"
   ]
  },
  {
   "cell_type": "code",
   "execution_count": 256,
   "id": "static-tooth",
   "metadata": {},
   "outputs": [
    {
     "data": {
      "text/plain": [
       "[                         0                1                2\n",
       " 0  Mars - Earth Comparison             Mars            Earth\n",
       " 1                Diameter:         6,779 km        12,742 km\n",
       " 2                    Mass:  6.39 × 10^23 kg  5.97 × 10^24 kg\n",
       " 3                   Moons:                2                1\n",
       " 4       Distance from Sun:   227,943,824 km   149,598,262 km\n",
       " 5          Length of Year:   687 Earth days      365.24 days\n",
       " 6             Temperature:     -87 to -5 °C      -88 to 58°C,\n",
       "                       0                              1\n",
       " 0  Equatorial Diameter:                       6,792 km\n",
       " 1       Polar Diameter:                       6,752 km\n",
       " 2                 Mass:  6.39 × 10^23 kg (0.11 Earths)\n",
       " 3                Moons:          2 ( Phobos & Deimos )\n",
       " 4       Orbit Distance:       227,943,824 km (1.38 AU)\n",
       " 5         Orbit Period:           687 days (1.9 years)\n",
       " 6  Surface Temperature:                   -87 to -5 °C\n",
       " 7         First Record:              2nd millennium BC\n",
       " 8          Recorded By:           Egyptian astronomers]"
      ]
     },
     "execution_count": 256,
     "metadata": {},
     "output_type": "execute_result"
    }
   ],
   "source": [
    "mars_table = pd.read_html(facts_html)\n",
    "mars_table"
   ]
  },
  {
   "cell_type": "code",
   "execution_count": 257,
   "id": "sacred-metadata",
   "metadata": {},
   "outputs": [
    {
     "data": {
      "text/html": [
       "<div>\n",
       "<style scoped>\n",
       "    .dataframe tbody tr th:only-of-type {\n",
       "        vertical-align: middle;\n",
       "    }\n",
       "\n",
       "    .dataframe tbody tr th {\n",
       "        vertical-align: top;\n",
       "    }\n",
       "\n",
       "    .dataframe thead th {\n",
       "        text-align: right;\n",
       "    }\n",
       "</style>\n",
       "<table border=\"1\" class=\"dataframe\">\n",
       "  <thead>\n",
       "    <tr style=\"text-align: right;\">\n",
       "      <th></th>\n",
       "      <th>0</th>\n",
       "      <th>1</th>\n",
       "      <th>2</th>\n",
       "    </tr>\n",
       "  </thead>\n",
       "  <tbody>\n",
       "    <tr>\n",
       "      <th>0</th>\n",
       "      <td>Mars - Earth Comparison</td>\n",
       "      <td>Mars</td>\n",
       "      <td>Earth</td>\n",
       "    </tr>\n",
       "    <tr>\n",
       "      <th>1</th>\n",
       "      <td>Diameter:</td>\n",
       "      <td>6,779 km</td>\n",
       "      <td>12,742 km</td>\n",
       "    </tr>\n",
       "    <tr>\n",
       "      <th>2</th>\n",
       "      <td>Mass:</td>\n",
       "      <td>6.39 × 10^23 kg</td>\n",
       "      <td>5.97 × 10^24 kg</td>\n",
       "    </tr>\n",
       "    <tr>\n",
       "      <th>3</th>\n",
       "      <td>Moons:</td>\n",
       "      <td>2</td>\n",
       "      <td>1</td>\n",
       "    </tr>\n",
       "    <tr>\n",
       "      <th>4</th>\n",
       "      <td>Distance from Sun:</td>\n",
       "      <td>227,943,824 km</td>\n",
       "      <td>149,598,262 km</td>\n",
       "    </tr>\n",
       "    <tr>\n",
       "      <th>5</th>\n",
       "      <td>Length of Year:</td>\n",
       "      <td>687 Earth days</td>\n",
       "      <td>365.24 days</td>\n",
       "    </tr>\n",
       "    <tr>\n",
       "      <th>6</th>\n",
       "      <td>Temperature:</td>\n",
       "      <td>-87 to -5 °C</td>\n",
       "      <td>-88 to 58°C</td>\n",
       "    </tr>\n",
       "  </tbody>\n",
       "</table>\n",
       "</div>"
      ],
      "text/plain": [
       "                         0                1                2\n",
       "0  Mars - Earth Comparison             Mars            Earth\n",
       "1                Diameter:         6,779 km        12,742 km\n",
       "2                    Mass:  6.39 × 10^23 kg  5.97 × 10^24 kg\n",
       "3                   Moons:                2                1\n",
       "4       Distance from Sun:   227,943,824 km   149,598,262 km\n",
       "5          Length of Year:   687 Earth days      365.24 days\n",
       "6             Temperature:     -87 to -5 °C      -88 to 58°C"
      ]
     },
     "execution_count": 257,
     "metadata": {},
     "output_type": "execute_result"
    }
   ],
   "source": [
    "mars_df = mars_table[0]\n",
    "mars_df"
   ]
  },
  {
   "cell_type": "code",
   "execution_count": 258,
   "id": "certified-pipeline",
   "metadata": {
    "scrolled": true
   },
   "outputs": [
    {
     "data": {
      "text/html": [
       "<div>\n",
       "<style scoped>\n",
       "    .dataframe tbody tr th:only-of-type {\n",
       "        vertical-align: middle;\n",
       "    }\n",
       "\n",
       "    .dataframe tbody tr th {\n",
       "        vertical-align: top;\n",
       "    }\n",
       "\n",
       "    .dataframe thead th {\n",
       "        text-align: right;\n",
       "    }\n",
       "</style>\n",
       "<table border=\"1\" class=\"dataframe\">\n",
       "  <thead>\n",
       "    <tr style=\"text-align: right;\">\n",
       "      <th></th>\n",
       "      <th>Categories</th>\n",
       "      <th>Mars</th>\n",
       "      <th>Earth</th>\n",
       "    </tr>\n",
       "  </thead>\n",
       "  <tbody>\n",
       "    <tr>\n",
       "      <th>0</th>\n",
       "      <td>Mars - Earth Comparison</td>\n",
       "      <td>Mars</td>\n",
       "      <td>Earth</td>\n",
       "    </tr>\n",
       "    <tr>\n",
       "      <th>1</th>\n",
       "      <td>Diameter:</td>\n",
       "      <td>6,779 km</td>\n",
       "      <td>12,742 km</td>\n",
       "    </tr>\n",
       "    <tr>\n",
       "      <th>2</th>\n",
       "      <td>Mass:</td>\n",
       "      <td>6.39 × 10^23 kg</td>\n",
       "      <td>5.97 × 10^24 kg</td>\n",
       "    </tr>\n",
       "    <tr>\n",
       "      <th>3</th>\n",
       "      <td>Moons:</td>\n",
       "      <td>2</td>\n",
       "      <td>1</td>\n",
       "    </tr>\n",
       "    <tr>\n",
       "      <th>4</th>\n",
       "      <td>Distance from Sun:</td>\n",
       "      <td>227,943,824 km</td>\n",
       "      <td>149,598,262 km</td>\n",
       "    </tr>\n",
       "    <tr>\n",
       "      <th>5</th>\n",
       "      <td>Length of Year:</td>\n",
       "      <td>687 Earth days</td>\n",
       "      <td>365.24 days</td>\n",
       "    </tr>\n",
       "    <tr>\n",
       "      <th>6</th>\n",
       "      <td>Temperature:</td>\n",
       "      <td>-87 to -5 °C</td>\n",
       "      <td>-88 to 58°C</td>\n",
       "    </tr>\n",
       "  </tbody>\n",
       "</table>\n",
       "</div>"
      ],
      "text/plain": [
       "                Categories             Mars            Earth\n",
       "0  Mars - Earth Comparison             Mars            Earth\n",
       "1                Diameter:         6,779 km        12,742 km\n",
       "2                    Mass:  6.39 × 10^23 kg  5.97 × 10^24 kg\n",
       "3                   Moons:                2                1\n",
       "4       Distance from Sun:   227,943,824 km   149,598,262 km\n",
       "5          Length of Year:   687 Earth days      365.24 days\n",
       "6             Temperature:     -87 to -5 °C      -88 to 58°C"
      ]
     },
     "execution_count": 258,
     "metadata": {},
     "output_type": "execute_result"
    }
   ],
   "source": [
    "mars_df.columns = [\"Categories\", \"Mars\", \"Earth\"]\n",
    "mars_df"
   ]
  },
  {
   "cell_type": "code",
   "execution_count": 264,
   "id": "revolutionary-findings",
   "metadata": {},
   "outputs": [],
   "source": [
    "marshtml = (mars_df.to_html())"
   ]
  },
  {
   "cell_type": "code",
   "execution_count": 265,
   "id": "mature-reynolds",
   "metadata": {},
   "outputs": [
    {
     "name": "stdout",
     "output_type": "stream",
     "text": [
      "<table border=\"1\" class=\"dataframe\">\n",
      "  <thead>\n",
      "    <tr style=\"text-align: right;\">\n",
      "      <th></th>\n",
      "      <th>Categories</th>\n",
      "      <th>Mars</th>\n",
      "      <th>Earth</th>\n",
      "    </tr>\n",
      "  </thead>\n",
      "  <tbody>\n",
      "    <tr>\n",
      "      <th>0</th>\n",
      "      <td>Mars - Earth Comparison</td>\n",
      "      <td>Mars</td>\n",
      "      <td>Earth</td>\n",
      "    </tr>\n",
      "    <tr>\n",
      "      <th>1</th>\n",
      "      <td>Diameter:</td>\n",
      "      <td>6,779 km</td>\n",
      "      <td>12,742 km</td>\n",
      "    </tr>\n",
      "    <tr>\n",
      "      <th>2</th>\n",
      "      <td>Mass:</td>\n",
      "      <td>6.39 × 10^23 kg</td>\n",
      "      <td>5.97 × 10^24 kg</td>\n",
      "    </tr>\n",
      "    <tr>\n",
      "      <th>3</th>\n",
      "      <td>Moons:</td>\n",
      "      <td>2</td>\n",
      "      <td>1</td>\n",
      "    </tr>\n",
      "    <tr>\n",
      "      <th>4</th>\n",
      "      <td>Distance from Sun:</td>\n",
      "      <td>227,943,824 km</td>\n",
      "      <td>149,598,262 km</td>\n",
      "    </tr>\n",
      "    <tr>\n",
      "      <th>5</th>\n",
      "      <td>Length of Year:</td>\n",
      "      <td>687 Earth days</td>\n",
      "      <td>365.24 days</td>\n",
      "    </tr>\n",
      "    <tr>\n",
      "      <th>6</th>\n",
      "      <td>Temperature:</td>\n",
      "      <td>-87 to -5 °C</td>\n",
      "      <td>-88 to 58°C</td>\n",
      "    </tr>\n",
      "  </tbody>\n",
      "</table>\n"
     ]
    }
   ],
   "source": [
    "print(marshtml)"
   ]
  },
  {
   "cell_type": "code",
   "execution_count": 267,
   "id": "suburban-ghana",
   "metadata": {},
   "outputs": [],
   "source": [
    "mars_df.to_csv('../marsData.csv',index=False)"
   ]
  },
  {
   "cell_type": "code",
   "execution_count": 260,
   "id": "narrative-piano",
   "metadata": {},
   "outputs": [],
   "source": [
    "#Hemisphere\n",
    "hemi_url = \"https://marshemispheres.com/\"\n",
    "browser.visit(hemi_url)"
   ]
  },
  {
   "cell_type": "code",
   "execution_count": 261,
   "id": "sufficient-recovery",
   "metadata": {},
   "outputs": [],
   "source": [
    "hemi_html = browser.html\n",
    "soup = bs(hemi_html, \"html.parser\")"
   ]
  },
  {
   "cell_type": "code",
   "execution_count": 262,
   "id": "adapted-prediction",
   "metadata": {},
   "outputs": [],
   "source": [
    "hemi = soup.find_all(\"div\", class_=\"item\")\n",
    "#hemi"
   ]
  },
  {
   "cell_type": "code",
   "execution_count": 279,
   "id": "external-funds",
   "metadata": {},
   "outputs": [
    {
     "name": "stdout",
     "output_type": "stream",
     "text": [
      "Cerberus Hemisphere Enhanced\n",
      "https://marshemispheres.com/images/b3c7c6c9138f57b4756be9b9c43e3a48_valles_marineris_enhanced.tif_full.jpg\n",
      "Schiaparelli Hemisphere Enhanced\n",
      "https://marshemispheres.com/images/b3c7c6c9138f57b4756be9b9c43e3a48_valles_marineris_enhanced.tif_full.jpg\n",
      "Syrtis Major Hemisphere Enhanced\n",
      "https://marshemispheres.com/images/b3c7c6c9138f57b4756be9b9c43e3a48_valles_marineris_enhanced.tif_full.jpg\n",
      "Valles Marineris Hemisphere Enhanced\n",
      "https://marshemispheres.com/images/b3c7c6c9138f57b4756be9b9c43e3a48_valles_marineris_enhanced.tif_full.jpg\n"
     ]
    }
   ],
   "source": [
    "hemi_info = []\n",
    "for result in hemi:\n",
    "    h_title = result.find(\"h3\").text\n",
    "    hemi_img = x.find(\"a\", class_=\"itemLink product-item\")[\"href\"]\n",
    "    \n",
    "    browser.visit(hemi_url + hemi_img)\n",
    "    \n",
    "    image_html = browser.html\n",
    "    web_info = bs(image_html, \"html.parser\")\n",
    "    \n",
    "    #browser.links.find_by_partial_text('Next').click()\n",
    "    try:\n",
    "        \n",
    "        img_url = hemi_url + web_info.find(\"img\", class_=\"wide-image\").link\n",
    "        browser.links.find_by_partial_text('Next').click()\n",
    "    except:\n",
    "        \"\"\n",
    "    \n",
    "    hemi_info.append({\"title\":h_title, \"img_url\":img_url})\n",
    "    \n",
    "    print(h_title)\n",
    "    print(img_url)"
   ]
  },
  {
   "cell_type": "code",
   "execution_count": null,
   "id": "flying-tonight",
   "metadata": {},
   "outputs": [],
   "source": []
  }
 ],
 "metadata": {
  "kernelspec": {
   "display_name": "Python 3",
   "language": "python",
   "name": "python3"
  },
  "language_info": {
   "codemirror_mode": {
    "name": "ipython",
    "version": 3
   },
   "file_extension": ".py",
   "mimetype": "text/x-python",
   "name": "python",
   "nbconvert_exporter": "python",
   "pygments_lexer": "ipython3",
   "version": "3.6.12"
  }
 },
 "nbformat": 4,
 "nbformat_minor": 5
}
