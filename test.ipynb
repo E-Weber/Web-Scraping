{
 "cells": [
  {
   "cell_type": "code",
   "execution_count": 2,
   "id": "further-aviation",
   "metadata": {},
   "outputs": [],
   "source": [
    "import pandas as pd\n",
    "from bs4 import BeautifulSoup as bs\n",
    "import os\n",
    "import requests\n",
    "from splinter import Browser\n",
    "from webdriver_manager.chrome import ChromeDriverManager\n",
    "import pymongo\n",
    "from flask import Flask, render_template\n"
   ]
  },
  {
   "cell_type": "code",
   "execution_count": 3,
   "id": "informed-february",
   "metadata": {},
   "outputs": [
    {
     "name": "stderr",
     "output_type": "stream",
     "text": [
      "[WDM] - ====== WebDriver manager ======\n",
      "[WDM] - Current google-chrome version is 89.0.4389\n",
      "[WDM] - Get LATEST driver version for 89.0.4389\n"
     ]
    },
    {
     "name": "stdout",
     "output_type": "stream",
     "text": [
      "\n",
      "\n"
     ]
    },
    {
     "name": "stderr",
     "output_type": "stream",
     "text": [
      "[WDM] - Get LATEST driver version for 89.0.4389\n",
      "[WDM] - Trying to download new driver from https://chromedriver.storage.googleapis.com/89.0.4389.23/chromedriver_win32.zip\n",
      "[WDM] - Driver has been saved in cache [C:\\Users\\eweber\\.wdm\\drivers\\chromedriver\\win32\\89.0.4389.23]\n"
     ]
    }
   ],
   "source": [
    "executable_path = {'executable_path': ChromeDriverManager().install()}\n",
    "browser = Browser('chrome', **executable_path, headless=False)"
   ]
  },
  {
   "cell_type": "code",
   "execution_count": 7,
   "id": "flexible-transcript",
   "metadata": {},
   "outputs": [],
   "source": [
    "#browser = init_browser()\n",
    "\n",
    "data = {}\n",
    "\n",
    "news_url = 'https://redplanetscience.com/'\n",
    "browser.visit(news_url)"
   ]
  },
  {
   "cell_type": "code",
   "execution_count": 11,
   "id": "reverse-roots",
   "metadata": {},
   "outputs": [
    {
     "name": "stdout",
     "output_type": "stream",
     "text": [
      "{'news_title': <bound method Tag.get_text of <div class=\"content_title\">Scientists Explore Outback as Testbed for Mars </div>>, 'news_p': <bound method Tag.get_text of <div class=\"article_teaser_body\">Australia provides a great place for NASA's Mars 2020 and the ESA-Roscosmos ExoMars scientists to hone techniques in preparation for searching for signs ancient life on Mars.</div>>}\n"
     ]
    }
   ],
   "source": [
    "# Parser\n",
    "news_html = browser.html\n",
    "soup = bs(news_html, 'html.parser')\n",
    "\n",
    "# News Title\n",
    "data['news_title'] = soup.find('div', class_='content_title').get_text\n",
    "\n",
    "# News Paragraph\n",
    "data['news_p'] = soup.find('div', class_='article_teaser_body').get_text\n",
    "browser.quit\n",
    "print(data)"
   ]
  },
  {
   "cell_type": "code",
   "execution_count": null,
   "id": "cleared-apollo",
   "metadata": {},
   "outputs": [],
   "source": [
    "# Parser\n",
    "news_html = browser.html\n",
    "soup = bs(news_html, 'html.parser')\n",
    "\n",
    "# News Title\n",
    "news_title = soup.find('div', class_='content_title').text\n",
    "\n",
    "# News Paragraph\n",
    "news_p = soup.find('div', class_='article_teaser_body').text\n",
    "\n",
    "# Photo\n",
    "url = 'https://spaceimages-mars.com'\n",
    "browser.visit(url)\n",
    "\n",
    "# click\n",
    "browser.links.find_by_partial_text(\"FULL IMAGE\").click()\n",
    "\n",
    "# Findimage\n",
    "pic_html = browser.html\n",
    "soup = bs(pic_html, 'html.parser')\n",
    "pic_html = \"/image/featured/mars\"\n",
    "\n",
    "# Featured url\n",
    "featured_image_url = url + pic_html\n",
    "featured_image_url\n",
    "\n",
    "# Facts\n",
    "facts_url = 'https://galaxyfacts-mars.com'\n",
    "browser.visit(facts_url)\n",
    "\n",
    "# Parser\n",
    "facts_html = browser.html\n",
    "soup = bs(facts_html, 'html.parser')\n",
    "\n",
    "# Table\n",
    "# mars_table = pd.read_html(facts_html)\n",
    "mars_table\n",
    "\n",
    "# MarsDF\n",
    "mars_df = mars_table[0]\n",
    "mars_df\n",
    "\n",
    "# Add Columns\n",
    "mars_df.columns = [\"Categories\", \"Mars\", \"Earth\"]\n",
    "mars_df\n",
    "\n",
    "# Convert DF to html\n",
    "print(mars_df.to_html())\n",
    "\n",
    "# Export to CSV\n",
    "mars_df.to_csv('../marsData.csv', index=False)\n",
    "\n",
    "# Hemisphere\n",
    "hemi_url = \"https://marshemispheres.com/\"\n",
    "browser.visit(hemi_url)\n",
    "\n",
    "# Parser\n",
    "hemi_html = browser.html\n",
    "soup = bs(hemi_html, \"html.parser\")\n",
    "\n",
    "# Find all class_ \"items\"\n",
    "hemi = soup.find_all(\"div\", class_=\"item\")\n",
    "hemi\n",
    "\n",
    "# Appendlist\n",
    "hemi_info = []\n",
    "\n",
    "# for loop\n",
    "for result in hemi:\n",
    "    h_title = result.find(\"h3\").text\n",
    "    hemi_img = x.find(\"a\", class_=\"itemLink product-item\")[\"href\"]\n",
    "\n",
    "    browser.visit(hemi_url + hemi_img)\n",
    "\n",
    "    image_html = browser.html\n",
    "    web_info = bs(image_html, \"html.parser\")\n",
    "    img_url = hemi_url + web_info.find(\"img\", class_=\"wide-image\")[\"src\"]\n",
    "\n",
    "    try:\n",
    "        browser.links.find_by_partial_text('next').click\n",
    "\n",
    "    except:\n",
    "        \"\"\n",
    "\n",
    "    hemi_info.append({\"title\": h_title, \"img_url\": img_url})\n",
    "\n",
    "browser.quit\n",
    "return data"
   ]
  }
 ],
 "metadata": {
  "kernelspec": {
   "display_name": "Python 3",
   "language": "python",
   "name": "python3"
  },
  "language_info": {
   "codemirror_mode": {
    "name": "ipython",
    "version": 3
   },
   "file_extension": ".py",
   "mimetype": "text/x-python",
   "name": "python",
   "nbconvert_exporter": "python",
   "pygments_lexer": "ipython3",
   "version": "3.6.12"
  }
 },
 "nbformat": 4,
 "nbformat_minor": 5
}
